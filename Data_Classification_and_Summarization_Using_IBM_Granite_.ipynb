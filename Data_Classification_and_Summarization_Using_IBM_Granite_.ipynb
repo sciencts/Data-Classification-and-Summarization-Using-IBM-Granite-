{
  "nbformat": 4,
  "nbformat_minor": 0,
  "metadata": {
    "colab": {
      "provenance": []
    },
    "kernelspec": {
      "name": "python3",
      "display_name": "Python 3"
    },
    "language_info": {
      "name": "python"
    }
  },
  "cells": [
    {
      "cell_type": "code",
      "execution_count": null,
      "metadata": {
        "id": "xRZRh4PSyuM_"
      },
      "outputs": [],
      "source": [
        "!pip install langchain_community\n",
        "!pip install replicate"
      ]
    },
    {
      "cell_type": "markdown",
      "source": [
        "### Import Library"
      ],
      "metadata": {
        "id": "bb4Qk9lV3lOw"
      }
    },
    {
      "cell_type": "code",
      "source": [
        "import pandas as pd\n",
        "import os\n",
        "import matplotlib.pyplot as plt\n",
        "import seaborn as sns\n",
        "from google.colab import userdata\n",
        "from langchain_community.llms import Replicate"
      ],
      "metadata": {
        "id": "vr-62xD33kNJ"
      },
      "execution_count": 229,
      "outputs": []
    },
    {
      "cell_type": "markdown",
      "source": [
        "#### Load Dataset\n"
      ],
      "metadata": {
        "id": "QbGPGDPS3riU"
      }
    },
    {
      "cell_type": "code",
      "source": [
        "file_path = \"Data Training-1.csv\"\n",
        "df = pd.read_csv(file_path)"
      ],
      "metadata": {
        "id": "9_pS-QK33utD"
      },
      "execution_count": 205,
      "outputs": []
    },
    {
      "cell_type": "code",
      "source": [
        "df.head()"
      ],
      "metadata": {
        "colab": {
          "base_uri": "https://localhost:8080/",
          "height": 206
        },
        "id": "kXytAy5d3zc4",
        "outputId": "5aed6f26-651a-4914-97d7-583b331f9fed"
      },
      "execution_count": 226,
      "outputs": [
        {
          "output_type": "execute_result",
          "data": {
            "text/plain": [
              "   Periode     Bulan  Tidak/belum pernah sekolah  Tidak/belum tamat SD  \\\n",
              "0     2006  Februari                      234465                614960   \n",
              "1     2006   Agustus                      170666                611254   \n",
              "2     2007  Februari                      145750                520316   \n",
              "3     2007   Agustus                       94301                438519   \n",
              "4     2008  Februari                       79764                448431   \n",
              "\n",
              "        SD     SLTP  SLTA Umum/SMU  SLTA Kejuruan/SMK  Akademi/Diploma  \\\n",
              "0  2675459  2860007        2842876            1204140           297185   \n",
              "1  2589699  2730045        2851518            1305190           278074   \n",
              "2  2753548  2643062        2630360            1114675           330316   \n",
              "3  2179792  2264198        2532204            1538349           397191   \n",
              "4  2216748  2166619        2204377            1165582           519867   \n",
              "\n",
              "   Universitas     Total  \n",
              "0       375601  11104693  \n",
              "1       395554  10932000  \n",
              "2       409890  10547917  \n",
              "3       566588  10011142  \n",
              "4       626202   9427590  "
            ],
            "text/html": [
              "\n",
              "  <div id=\"df-5f7a99a8-b8af-40e8-a428-45fd03adf84c\" class=\"colab-df-container\">\n",
              "    <div>\n",
              "<style scoped>\n",
              "    .dataframe tbody tr th:only-of-type {\n",
              "        vertical-align: middle;\n",
              "    }\n",
              "\n",
              "    .dataframe tbody tr th {\n",
              "        vertical-align: top;\n",
              "    }\n",
              "\n",
              "    .dataframe thead th {\n",
              "        text-align: right;\n",
              "    }\n",
              "</style>\n",
              "<table border=\"1\" class=\"dataframe\">\n",
              "  <thead>\n",
              "    <tr style=\"text-align: right;\">\n",
              "      <th></th>\n",
              "      <th>Periode</th>\n",
              "      <th>Bulan</th>\n",
              "      <th>Tidak/belum pernah sekolah</th>\n",
              "      <th>Tidak/belum tamat SD</th>\n",
              "      <th>SD</th>\n",
              "      <th>SLTP</th>\n",
              "      <th>SLTA Umum/SMU</th>\n",
              "      <th>SLTA Kejuruan/SMK</th>\n",
              "      <th>Akademi/Diploma</th>\n",
              "      <th>Universitas</th>\n",
              "      <th>Total</th>\n",
              "    </tr>\n",
              "  </thead>\n",
              "  <tbody>\n",
              "    <tr>\n",
              "      <th>0</th>\n",
              "      <td>2006</td>\n",
              "      <td>Februari</td>\n",
              "      <td>234465</td>\n",
              "      <td>614960</td>\n",
              "      <td>2675459</td>\n",
              "      <td>2860007</td>\n",
              "      <td>2842876</td>\n",
              "      <td>1204140</td>\n",
              "      <td>297185</td>\n",
              "      <td>375601</td>\n",
              "      <td>11104693</td>\n",
              "    </tr>\n",
              "    <tr>\n",
              "      <th>1</th>\n",
              "      <td>2006</td>\n",
              "      <td>Agustus</td>\n",
              "      <td>170666</td>\n",
              "      <td>611254</td>\n",
              "      <td>2589699</td>\n",
              "      <td>2730045</td>\n",
              "      <td>2851518</td>\n",
              "      <td>1305190</td>\n",
              "      <td>278074</td>\n",
              "      <td>395554</td>\n",
              "      <td>10932000</td>\n",
              "    </tr>\n",
              "    <tr>\n",
              "      <th>2</th>\n",
              "      <td>2007</td>\n",
              "      <td>Februari</td>\n",
              "      <td>145750</td>\n",
              "      <td>520316</td>\n",
              "      <td>2753548</td>\n",
              "      <td>2643062</td>\n",
              "      <td>2630360</td>\n",
              "      <td>1114675</td>\n",
              "      <td>330316</td>\n",
              "      <td>409890</td>\n",
              "      <td>10547917</td>\n",
              "    </tr>\n",
              "    <tr>\n",
              "      <th>3</th>\n",
              "      <td>2007</td>\n",
              "      <td>Agustus</td>\n",
              "      <td>94301</td>\n",
              "      <td>438519</td>\n",
              "      <td>2179792</td>\n",
              "      <td>2264198</td>\n",
              "      <td>2532204</td>\n",
              "      <td>1538349</td>\n",
              "      <td>397191</td>\n",
              "      <td>566588</td>\n",
              "      <td>10011142</td>\n",
              "    </tr>\n",
              "    <tr>\n",
              "      <th>4</th>\n",
              "      <td>2008</td>\n",
              "      <td>Februari</td>\n",
              "      <td>79764</td>\n",
              "      <td>448431</td>\n",
              "      <td>2216748</td>\n",
              "      <td>2166619</td>\n",
              "      <td>2204377</td>\n",
              "      <td>1165582</td>\n",
              "      <td>519867</td>\n",
              "      <td>626202</td>\n",
              "      <td>9427590</td>\n",
              "    </tr>\n",
              "  </tbody>\n",
              "</table>\n",
              "</div>\n",
              "    <div class=\"colab-df-buttons\">\n",
              "\n",
              "  <div class=\"colab-df-container\">\n",
              "    <button class=\"colab-df-convert\" onclick=\"convertToInteractive('df-5f7a99a8-b8af-40e8-a428-45fd03adf84c')\"\n",
              "            title=\"Convert this dataframe to an interactive table.\"\n",
              "            style=\"display:none;\">\n",
              "\n",
              "  <svg xmlns=\"http://www.w3.org/2000/svg\" height=\"24px\" viewBox=\"0 -960 960 960\">\n",
              "    <path d=\"M120-120v-720h720v720H120Zm60-500h600v-160H180v160Zm220 220h160v-160H400v160Zm0 220h160v-160H400v160ZM180-400h160v-160H180v160Zm440 0h160v-160H620v160ZM180-180h160v-160H180v160Zm440 0h160v-160H620v160Z\"/>\n",
              "  </svg>\n",
              "    </button>\n",
              "\n",
              "  <style>\n",
              "    .colab-df-container {\n",
              "      display:flex;\n",
              "      gap: 12px;\n",
              "    }\n",
              "\n",
              "    .colab-df-convert {\n",
              "      background-color: #E8F0FE;\n",
              "      border: none;\n",
              "      border-radius: 50%;\n",
              "      cursor: pointer;\n",
              "      display: none;\n",
              "      fill: #1967D2;\n",
              "      height: 32px;\n",
              "      padding: 0 0 0 0;\n",
              "      width: 32px;\n",
              "    }\n",
              "\n",
              "    .colab-df-convert:hover {\n",
              "      background-color: #E2EBFA;\n",
              "      box-shadow: 0px 1px 2px rgba(60, 64, 67, 0.3), 0px 1px 3px 1px rgba(60, 64, 67, 0.15);\n",
              "      fill: #174EA6;\n",
              "    }\n",
              "\n",
              "    .colab-df-buttons div {\n",
              "      margin-bottom: 4px;\n",
              "    }\n",
              "\n",
              "    [theme=dark] .colab-df-convert {\n",
              "      background-color: #3B4455;\n",
              "      fill: #D2E3FC;\n",
              "    }\n",
              "\n",
              "    [theme=dark] .colab-df-convert:hover {\n",
              "      background-color: #434B5C;\n",
              "      box-shadow: 0px 1px 3px 1px rgba(0, 0, 0, 0.15);\n",
              "      filter: drop-shadow(0px 1px 2px rgba(0, 0, 0, 0.3));\n",
              "      fill: #FFFFFF;\n",
              "    }\n",
              "  </style>\n",
              "\n",
              "    <script>\n",
              "      const buttonEl =\n",
              "        document.querySelector('#df-5f7a99a8-b8af-40e8-a428-45fd03adf84c button.colab-df-convert');\n",
              "      buttonEl.style.display =\n",
              "        google.colab.kernel.accessAllowed ? 'block' : 'none';\n",
              "\n",
              "      async function convertToInteractive(key) {\n",
              "        const element = document.querySelector('#df-5f7a99a8-b8af-40e8-a428-45fd03adf84c');\n",
              "        const dataTable =\n",
              "          await google.colab.kernel.invokeFunction('convertToInteractive',\n",
              "                                                    [key], {});\n",
              "        if (!dataTable) return;\n",
              "\n",
              "        const docLinkHtml = 'Like what you see? Visit the ' +\n",
              "          '<a target=\"_blank\" href=https://colab.research.google.com/notebooks/data_table.ipynb>data table notebook</a>'\n",
              "          + ' to learn more about interactive tables.';\n",
              "        element.innerHTML = '';\n",
              "        dataTable['output_type'] = 'display_data';\n",
              "        await google.colab.output.renderOutput(dataTable, element);\n",
              "        const docLink = document.createElement('div');\n",
              "        docLink.innerHTML = docLinkHtml;\n",
              "        element.appendChild(docLink);\n",
              "      }\n",
              "    </script>\n",
              "  </div>\n",
              "\n",
              "\n",
              "    <div id=\"df-97f04dab-c6c2-4fa2-84b0-e6374e22f89a\">\n",
              "      <button class=\"colab-df-quickchart\" onclick=\"quickchart('df-97f04dab-c6c2-4fa2-84b0-e6374e22f89a')\"\n",
              "                title=\"Suggest charts\"\n",
              "                style=\"display:none;\">\n",
              "\n",
              "<svg xmlns=\"http://www.w3.org/2000/svg\" height=\"24px\"viewBox=\"0 0 24 24\"\n",
              "     width=\"24px\">\n",
              "    <g>\n",
              "        <path d=\"M19 3H5c-1.1 0-2 .9-2 2v14c0 1.1.9 2 2 2h14c1.1 0 2-.9 2-2V5c0-1.1-.9-2-2-2zM9 17H7v-7h2v7zm4 0h-2V7h2v10zm4 0h-2v-4h2v4z\"/>\n",
              "    </g>\n",
              "</svg>\n",
              "      </button>\n",
              "\n",
              "<style>\n",
              "  .colab-df-quickchart {\n",
              "      --bg-color: #E8F0FE;\n",
              "      --fill-color: #1967D2;\n",
              "      --hover-bg-color: #E2EBFA;\n",
              "      --hover-fill-color: #174EA6;\n",
              "      --disabled-fill-color: #AAA;\n",
              "      --disabled-bg-color: #DDD;\n",
              "  }\n",
              "\n",
              "  [theme=dark] .colab-df-quickchart {\n",
              "      --bg-color: #3B4455;\n",
              "      --fill-color: #D2E3FC;\n",
              "      --hover-bg-color: #434B5C;\n",
              "      --hover-fill-color: #FFFFFF;\n",
              "      --disabled-bg-color: #3B4455;\n",
              "      --disabled-fill-color: #666;\n",
              "  }\n",
              "\n",
              "  .colab-df-quickchart {\n",
              "    background-color: var(--bg-color);\n",
              "    border: none;\n",
              "    border-radius: 50%;\n",
              "    cursor: pointer;\n",
              "    display: none;\n",
              "    fill: var(--fill-color);\n",
              "    height: 32px;\n",
              "    padding: 0;\n",
              "    width: 32px;\n",
              "  }\n",
              "\n",
              "  .colab-df-quickchart:hover {\n",
              "    background-color: var(--hover-bg-color);\n",
              "    box-shadow: 0 1px 2px rgba(60, 64, 67, 0.3), 0 1px 3px 1px rgba(60, 64, 67, 0.15);\n",
              "    fill: var(--button-hover-fill-color);\n",
              "  }\n",
              "\n",
              "  .colab-df-quickchart-complete:disabled,\n",
              "  .colab-df-quickchart-complete:disabled:hover {\n",
              "    background-color: var(--disabled-bg-color);\n",
              "    fill: var(--disabled-fill-color);\n",
              "    box-shadow: none;\n",
              "  }\n",
              "\n",
              "  .colab-df-spinner {\n",
              "    border: 2px solid var(--fill-color);\n",
              "    border-color: transparent;\n",
              "    border-bottom-color: var(--fill-color);\n",
              "    animation:\n",
              "      spin 1s steps(1) infinite;\n",
              "  }\n",
              "\n",
              "  @keyframes spin {\n",
              "    0% {\n",
              "      border-color: transparent;\n",
              "      border-bottom-color: var(--fill-color);\n",
              "      border-left-color: var(--fill-color);\n",
              "    }\n",
              "    20% {\n",
              "      border-color: transparent;\n",
              "      border-left-color: var(--fill-color);\n",
              "      border-top-color: var(--fill-color);\n",
              "    }\n",
              "    30% {\n",
              "      border-color: transparent;\n",
              "      border-left-color: var(--fill-color);\n",
              "      border-top-color: var(--fill-color);\n",
              "      border-right-color: var(--fill-color);\n",
              "    }\n",
              "    40% {\n",
              "      border-color: transparent;\n",
              "      border-right-color: var(--fill-color);\n",
              "      border-top-color: var(--fill-color);\n",
              "    }\n",
              "    60% {\n",
              "      border-color: transparent;\n",
              "      border-right-color: var(--fill-color);\n",
              "    }\n",
              "    80% {\n",
              "      border-color: transparent;\n",
              "      border-right-color: var(--fill-color);\n",
              "      border-bottom-color: var(--fill-color);\n",
              "    }\n",
              "    90% {\n",
              "      border-color: transparent;\n",
              "      border-bottom-color: var(--fill-color);\n",
              "    }\n",
              "  }\n",
              "</style>\n",
              "\n",
              "      <script>\n",
              "        async function quickchart(key) {\n",
              "          const quickchartButtonEl =\n",
              "            document.querySelector('#' + key + ' button');\n",
              "          quickchartButtonEl.disabled = true;  // To prevent multiple clicks.\n",
              "          quickchartButtonEl.classList.add('colab-df-spinner');\n",
              "          try {\n",
              "            const charts = await google.colab.kernel.invokeFunction(\n",
              "                'suggestCharts', [key], {});\n",
              "          } catch (error) {\n",
              "            console.error('Error during call to suggestCharts:', error);\n",
              "          }\n",
              "          quickchartButtonEl.classList.remove('colab-df-spinner');\n",
              "          quickchartButtonEl.classList.add('colab-df-quickchart-complete');\n",
              "        }\n",
              "        (() => {\n",
              "          let quickchartButtonEl =\n",
              "            document.querySelector('#df-97f04dab-c6c2-4fa2-84b0-e6374e22f89a button');\n",
              "          quickchartButtonEl.style.display =\n",
              "            google.colab.kernel.accessAllowed ? 'block' : 'none';\n",
              "        })();\n",
              "      </script>\n",
              "    </div>\n",
              "\n",
              "    </div>\n",
              "  </div>\n"
            ],
            "application/vnd.google.colaboratory.intrinsic+json": {
              "type": "dataframe",
              "variable_name": "df",
              "summary": "{\n  \"name\": \"df\",\n  \"rows\": 35,\n  \"fields\": [\n    {\n      \"column\": \"Periode\",\n      \"properties\": {\n        \"dtype\": \"number\",\n        \"std\": 5,\n        \"min\": 2006,\n        \"max\": 2022,\n        \"num_unique_values\": 17,\n        \"samples\": [\n          2006,\n          2007,\n          2011\n        ],\n        \"semantic_type\": \"\",\n        \"description\": \"\"\n      }\n    },\n    {\n      \"column\": \"Bulan\",\n      \"properties\": {\n        \"dtype\": \"category\",\n        \"num_unique_values\": 2,\n        \"samples\": [\n          \"Agustus\",\n          \"Februari\"\n        ],\n        \"semantic_type\": \"\",\n        \"description\": \"\"\n      }\n    },\n    {\n      \"column\": \"Tidak/belum pernah sekolah\",\n      \"properties\": {\n        \"dtype\": \"number\",\n        \"std\": 53949,\n        \"min\": 15206,\n        \"max\": 234465,\n        \"num_unique_values\": 34,\n        \"samples\": [\n          81432,\n          55554\n        ],\n        \"semantic_type\": \"\",\n        \"description\": \"\"\n      }\n    },\n    {\n      \"column\": \"Tidak/belum tamat SD\",\n      \"properties\": {\n        \"dtype\": \"number\",\n        \"std\": 105794,\n        \"min\": 328781,\n        \"max\": 737610,\n        \"num_unique_values\": 34,\n        \"samples\": [\n          489152,\n          371542\n        ],\n        \"semantic_type\": \"\",\n        \"description\": \"\"\n      }\n    },\n    {\n      \"column\": \"SD\",\n      \"properties\": {\n        \"dtype\": \"number\",\n        \"std\": 511294,\n        \"min\": 865778,\n        \"max\": 2753548,\n        \"num_unique_values\": 34,\n        \"samples\": [\n          1347555,\n          1004961\n        ],\n        \"semantic_type\": \"\",\n        \"description\": \"\"\n      }\n    },\n    {\n      \"column\": \"SLTP\",\n      \"properties\": {\n        \"dtype\": \"number\",\n        \"std\": 436737,\n        \"min\": 1137195,\n        \"max\": 2860007,\n        \"num_unique_values\": 34,\n        \"samples\": [\n          1689643,\n          1373919\n        ],\n        \"semantic_type\": \"\",\n        \"description\": \"\"\n      }\n    },\n    {\n      \"column\": \"SLTA Umum/SMU\",\n      \"properties\": {\n        \"dtype\": \"number\",\n        \"std\": 351845,\n        \"min\": 1546699,\n        \"max\": 2851518,\n        \"num_unique_values\": 34,\n        \"samples\": [\n          1925660,\n          2280029\n        ],\n        \"semantic_type\": \"\",\n        \"description\": \"\"\n      }\n    },\n    {\n      \"column\": \"SLTA Kejuruan/SMK\",\n      \"properties\": {\n        \"dtype\": \"number\",\n        \"std\": 336165,\n        \"min\": 847365,\n        \"max\": 2326599,\n        \"num_unique_values\": 34,\n        \"samples\": [\n          1258201,\n          1569690\n        ],\n        \"semantic_type\": \"\",\n        \"description\": \"\"\n      }\n    },\n    {\n      \"column\": \"Akademi/Diploma\",\n      \"properties\": {\n        \"dtype\": \"number\",\n        \"std\": 103575,\n        \"min\": 159490,\n        \"max\": 538186,\n        \"num_unique_values\": 34,\n        \"samples\": [\n          185103,\n          251541\n        ],\n        \"semantic_type\": \"\",\n        \"description\": \"\"\n      }\n    },\n    {\n      \"column\": \"Universitas\",\n      \"properties\": {\n        \"dtype\": \"number\",\n        \"std\": 167112,\n        \"min\": 375601,\n        \"max\": 999543,\n        \"num_unique_values\": 34,\n        \"samples\": [\n          434185,\n          653586\n        ],\n        \"semantic_type\": \"\",\n        \"description\": \"\"\n      }\n    },\n    {\n      \"column\": \"Total\",\n      \"properties\": {\n        \"dtype\": \"number\",\n        \"std\": 1233931,\n        \"min\": 6898796,\n        \"max\": 11104693,\n        \"num_unique_values\": 33,\n        \"samples\": [\n          8402153,\n          7410931\n        ],\n        \"semantic_type\": \"\",\n        \"description\": \"\"\n      }\n    }\n  ]\n}"
            }
          },
          "metadata": {},
          "execution_count": 226
        }
      ]
    },
    {
      "cell_type": "code",
      "source": [
        "df.shape"
      ],
      "metadata": {
        "colab": {
          "base_uri": "https://localhost:8080/"
        },
        "id": "Vb62R64j4hBH",
        "outputId": "e360910e-c9a0-4358-88e3-3635a38bbde4"
      },
      "execution_count": 207,
      "outputs": [
        {
          "output_type": "execute_result",
          "data": {
            "text/plain": [
              "(35, 11)"
            ]
          },
          "metadata": {},
          "execution_count": 207
        }
      ]
    },
    {
      "cell_type": "code",
      "source": [
        "df.info()"
      ],
      "metadata": {
        "colab": {
          "base_uri": "https://localhost:8080/"
        },
        "id": "PQurX7r233Q9",
        "outputId": "9f72d435-bd35-4246-e22a-c5cc7f643be4"
      },
      "execution_count": 208,
      "outputs": [
        {
          "output_type": "stream",
          "name": "stdout",
          "text": [
            "<class 'pandas.core.frame.DataFrame'>\n",
            "RangeIndex: 35 entries, 0 to 34\n",
            "Data columns (total 11 columns):\n",
            " #   Column                      Non-Null Count  Dtype \n",
            "---  ------                      --------------  ----- \n",
            " 0   Periode                     35 non-null     int64 \n",
            " 1   Bulan                       35 non-null     object\n",
            " 2   Tidak/belum pernah sekolah  35 non-null     int64 \n",
            " 3   Tidak/belum tamat SD        35 non-null     int64 \n",
            " 4   SD                          35 non-null     int64 \n",
            " 5   SLTP                        35 non-null     int64 \n",
            " 6   SLTA Umum/SMU               35 non-null     int64 \n",
            " 7   SLTA Kejuruan/SMK           35 non-null     int64 \n",
            " 8   Akademi/Diploma             35 non-null     int64 \n",
            " 9   Universitas                 35 non-null     int64 \n",
            " 10  Total                       35 non-null     int64 \n",
            "dtypes: int64(10), object(1)\n",
            "memory usage: 3.1+ KB\n"
          ]
        }
      ]
    },
    {
      "cell_type": "code",
      "source": [
        "df.describe().map(lambda x: f\"{x:.0f}\")"
      ],
      "metadata": {
        "colab": {
          "base_uri": "https://localhost:8080/",
          "height": 300
        },
        "id": "d1x5FplzKTbk",
        "outputId": "29f26bc1-fce9-4492-d49e-5663bea49d71"
      },
      "execution_count": 209,
      "outputs": [
        {
          "output_type": "execute_result",
          "data": {
            "text/plain": [
              "      Periode Tidak/belum pernah sekolah Tidak/belum tamat SD       SD  \\\n",
              "count      35                         35                   35       35   \n",
              "mean     2014                      83398               496155  1462738   \n",
              "std         5                      53949               105794   511294   \n",
              "min      2006                      15206               328781   865778   \n",
              "25%      2010                      38596               422384  1219224   \n",
              "50%      2014                      79764               489152  1320392   \n",
              "75%      2018                     107820               579941  1487256   \n",
              "max      2022                     234465               737610  2753548   \n",
              "\n",
              "          SLTP SLTA Umum/SMU SLTA Kejuruan/SMK Akademi/Diploma Universitas  \\\n",
              "count       35            35                35              35          35   \n",
              "mean   1697168       2153685           1422718          290183      642869   \n",
              "std     436737        351846            336166          103575      167113   \n",
              "min    1137195       1546699            847365          159490      375601   \n",
              "25%    1343867       1902169           1184779          219345      548211   \n",
              "50%    1650387       2133627           1383022          254457      626621   \n",
              "75%    1828030       2437820           1595546          317788      743362   \n",
              "max    2860007       2851518           2326599          538186      999543   \n",
              "\n",
              "          Total  \n",
              "count        35  \n",
              "mean    8247912  \n",
              "std     1233931  \n",
              "min     6898796  \n",
              "25%     7125746  \n",
              "50%     8319779  \n",
              "75%     9032334  \n",
              "max    11104693  "
            ],
            "text/html": [
              "\n",
              "  <div id=\"df-2962b6f6-7290-4468-840f-72f08a1ea832\" class=\"colab-df-container\">\n",
              "    <div>\n",
              "<style scoped>\n",
              "    .dataframe tbody tr th:only-of-type {\n",
              "        vertical-align: middle;\n",
              "    }\n",
              "\n",
              "    .dataframe tbody tr th {\n",
              "        vertical-align: top;\n",
              "    }\n",
              "\n",
              "    .dataframe thead th {\n",
              "        text-align: right;\n",
              "    }\n",
              "</style>\n",
              "<table border=\"1\" class=\"dataframe\">\n",
              "  <thead>\n",
              "    <tr style=\"text-align: right;\">\n",
              "      <th></th>\n",
              "      <th>Periode</th>\n",
              "      <th>Tidak/belum pernah sekolah</th>\n",
              "      <th>Tidak/belum tamat SD</th>\n",
              "      <th>SD</th>\n",
              "      <th>SLTP</th>\n",
              "      <th>SLTA Umum/SMU</th>\n",
              "      <th>SLTA Kejuruan/SMK</th>\n",
              "      <th>Akademi/Diploma</th>\n",
              "      <th>Universitas</th>\n",
              "      <th>Total</th>\n",
              "    </tr>\n",
              "  </thead>\n",
              "  <tbody>\n",
              "    <tr>\n",
              "      <th>count</th>\n",
              "      <td>35</td>\n",
              "      <td>35</td>\n",
              "      <td>35</td>\n",
              "      <td>35</td>\n",
              "      <td>35</td>\n",
              "      <td>35</td>\n",
              "      <td>35</td>\n",
              "      <td>35</td>\n",
              "      <td>35</td>\n",
              "      <td>35</td>\n",
              "    </tr>\n",
              "    <tr>\n",
              "      <th>mean</th>\n",
              "      <td>2014</td>\n",
              "      <td>83398</td>\n",
              "      <td>496155</td>\n",
              "      <td>1462738</td>\n",
              "      <td>1697168</td>\n",
              "      <td>2153685</td>\n",
              "      <td>1422718</td>\n",
              "      <td>290183</td>\n",
              "      <td>642869</td>\n",
              "      <td>8247912</td>\n",
              "    </tr>\n",
              "    <tr>\n",
              "      <th>std</th>\n",
              "      <td>5</td>\n",
              "      <td>53949</td>\n",
              "      <td>105794</td>\n",
              "      <td>511294</td>\n",
              "      <td>436737</td>\n",
              "      <td>351846</td>\n",
              "      <td>336166</td>\n",
              "      <td>103575</td>\n",
              "      <td>167113</td>\n",
              "      <td>1233931</td>\n",
              "    </tr>\n",
              "    <tr>\n",
              "      <th>min</th>\n",
              "      <td>2006</td>\n",
              "      <td>15206</td>\n",
              "      <td>328781</td>\n",
              "      <td>865778</td>\n",
              "      <td>1137195</td>\n",
              "      <td>1546699</td>\n",
              "      <td>847365</td>\n",
              "      <td>159490</td>\n",
              "      <td>375601</td>\n",
              "      <td>6898796</td>\n",
              "    </tr>\n",
              "    <tr>\n",
              "      <th>25%</th>\n",
              "      <td>2010</td>\n",
              "      <td>38596</td>\n",
              "      <td>422384</td>\n",
              "      <td>1219224</td>\n",
              "      <td>1343867</td>\n",
              "      <td>1902169</td>\n",
              "      <td>1184779</td>\n",
              "      <td>219345</td>\n",
              "      <td>548211</td>\n",
              "      <td>7125746</td>\n",
              "    </tr>\n",
              "    <tr>\n",
              "      <th>50%</th>\n",
              "      <td>2014</td>\n",
              "      <td>79764</td>\n",
              "      <td>489152</td>\n",
              "      <td>1320392</td>\n",
              "      <td>1650387</td>\n",
              "      <td>2133627</td>\n",
              "      <td>1383022</td>\n",
              "      <td>254457</td>\n",
              "      <td>626621</td>\n",
              "      <td>8319779</td>\n",
              "    </tr>\n",
              "    <tr>\n",
              "      <th>75%</th>\n",
              "      <td>2018</td>\n",
              "      <td>107820</td>\n",
              "      <td>579941</td>\n",
              "      <td>1487256</td>\n",
              "      <td>1828030</td>\n",
              "      <td>2437820</td>\n",
              "      <td>1595546</td>\n",
              "      <td>317788</td>\n",
              "      <td>743362</td>\n",
              "      <td>9032334</td>\n",
              "    </tr>\n",
              "    <tr>\n",
              "      <th>max</th>\n",
              "      <td>2022</td>\n",
              "      <td>234465</td>\n",
              "      <td>737610</td>\n",
              "      <td>2753548</td>\n",
              "      <td>2860007</td>\n",
              "      <td>2851518</td>\n",
              "      <td>2326599</td>\n",
              "      <td>538186</td>\n",
              "      <td>999543</td>\n",
              "      <td>11104693</td>\n",
              "    </tr>\n",
              "  </tbody>\n",
              "</table>\n",
              "</div>\n",
              "    <div class=\"colab-df-buttons\">\n",
              "\n",
              "  <div class=\"colab-df-container\">\n",
              "    <button class=\"colab-df-convert\" onclick=\"convertToInteractive('df-2962b6f6-7290-4468-840f-72f08a1ea832')\"\n",
              "            title=\"Convert this dataframe to an interactive table.\"\n",
              "            style=\"display:none;\">\n",
              "\n",
              "  <svg xmlns=\"http://www.w3.org/2000/svg\" height=\"24px\" viewBox=\"0 -960 960 960\">\n",
              "    <path d=\"M120-120v-720h720v720H120Zm60-500h600v-160H180v160Zm220 220h160v-160H400v160Zm0 220h160v-160H400v160ZM180-400h160v-160H180v160Zm440 0h160v-160H620v160ZM180-180h160v-160H180v160Zm440 0h160v-160H620v160Z\"/>\n",
              "  </svg>\n",
              "    </button>\n",
              "\n",
              "  <style>\n",
              "    .colab-df-container {\n",
              "      display:flex;\n",
              "      gap: 12px;\n",
              "    }\n",
              "\n",
              "    .colab-df-convert {\n",
              "      background-color: #E8F0FE;\n",
              "      border: none;\n",
              "      border-radius: 50%;\n",
              "      cursor: pointer;\n",
              "      display: none;\n",
              "      fill: #1967D2;\n",
              "      height: 32px;\n",
              "      padding: 0 0 0 0;\n",
              "      width: 32px;\n",
              "    }\n",
              "\n",
              "    .colab-df-convert:hover {\n",
              "      background-color: #E2EBFA;\n",
              "      box-shadow: 0px 1px 2px rgba(60, 64, 67, 0.3), 0px 1px 3px 1px rgba(60, 64, 67, 0.15);\n",
              "      fill: #174EA6;\n",
              "    }\n",
              "\n",
              "    .colab-df-buttons div {\n",
              "      margin-bottom: 4px;\n",
              "    }\n",
              "\n",
              "    [theme=dark] .colab-df-convert {\n",
              "      background-color: #3B4455;\n",
              "      fill: #D2E3FC;\n",
              "    }\n",
              "\n",
              "    [theme=dark] .colab-df-convert:hover {\n",
              "      background-color: #434B5C;\n",
              "      box-shadow: 0px 1px 3px 1px rgba(0, 0, 0, 0.15);\n",
              "      filter: drop-shadow(0px 1px 2px rgba(0, 0, 0, 0.3));\n",
              "      fill: #FFFFFF;\n",
              "    }\n",
              "  </style>\n",
              "\n",
              "    <script>\n",
              "      const buttonEl =\n",
              "        document.querySelector('#df-2962b6f6-7290-4468-840f-72f08a1ea832 button.colab-df-convert');\n",
              "      buttonEl.style.display =\n",
              "        google.colab.kernel.accessAllowed ? 'block' : 'none';\n",
              "\n",
              "      async function convertToInteractive(key) {\n",
              "        const element = document.querySelector('#df-2962b6f6-7290-4468-840f-72f08a1ea832');\n",
              "        const dataTable =\n",
              "          await google.colab.kernel.invokeFunction('convertToInteractive',\n",
              "                                                    [key], {});\n",
              "        if (!dataTable) return;\n",
              "\n",
              "        const docLinkHtml = 'Like what you see? Visit the ' +\n",
              "          '<a target=\"_blank\" href=https://colab.research.google.com/notebooks/data_table.ipynb>data table notebook</a>'\n",
              "          + ' to learn more about interactive tables.';\n",
              "        element.innerHTML = '';\n",
              "        dataTable['output_type'] = 'display_data';\n",
              "        await google.colab.output.renderOutput(dataTable, element);\n",
              "        const docLink = document.createElement('div');\n",
              "        docLink.innerHTML = docLinkHtml;\n",
              "        element.appendChild(docLink);\n",
              "      }\n",
              "    </script>\n",
              "  </div>\n",
              "\n",
              "\n",
              "    <div id=\"df-46727229-bc32-4830-8a6f-5406083822a8\">\n",
              "      <button class=\"colab-df-quickchart\" onclick=\"quickchart('df-46727229-bc32-4830-8a6f-5406083822a8')\"\n",
              "                title=\"Suggest charts\"\n",
              "                style=\"display:none;\">\n",
              "\n",
              "<svg xmlns=\"http://www.w3.org/2000/svg\" height=\"24px\"viewBox=\"0 0 24 24\"\n",
              "     width=\"24px\">\n",
              "    <g>\n",
              "        <path d=\"M19 3H5c-1.1 0-2 .9-2 2v14c0 1.1.9 2 2 2h14c1.1 0 2-.9 2-2V5c0-1.1-.9-2-2-2zM9 17H7v-7h2v7zm4 0h-2V7h2v10zm4 0h-2v-4h2v4z\"/>\n",
              "    </g>\n",
              "</svg>\n",
              "      </button>\n",
              "\n",
              "<style>\n",
              "  .colab-df-quickchart {\n",
              "      --bg-color: #E8F0FE;\n",
              "      --fill-color: #1967D2;\n",
              "      --hover-bg-color: #E2EBFA;\n",
              "      --hover-fill-color: #174EA6;\n",
              "      --disabled-fill-color: #AAA;\n",
              "      --disabled-bg-color: #DDD;\n",
              "  }\n",
              "\n",
              "  [theme=dark] .colab-df-quickchart {\n",
              "      --bg-color: #3B4455;\n",
              "      --fill-color: #D2E3FC;\n",
              "      --hover-bg-color: #434B5C;\n",
              "      --hover-fill-color: #FFFFFF;\n",
              "      --disabled-bg-color: #3B4455;\n",
              "      --disabled-fill-color: #666;\n",
              "  }\n",
              "\n",
              "  .colab-df-quickchart {\n",
              "    background-color: var(--bg-color);\n",
              "    border: none;\n",
              "    border-radius: 50%;\n",
              "    cursor: pointer;\n",
              "    display: none;\n",
              "    fill: var(--fill-color);\n",
              "    height: 32px;\n",
              "    padding: 0;\n",
              "    width: 32px;\n",
              "  }\n",
              "\n",
              "  .colab-df-quickchart:hover {\n",
              "    background-color: var(--hover-bg-color);\n",
              "    box-shadow: 0 1px 2px rgba(60, 64, 67, 0.3), 0 1px 3px 1px rgba(60, 64, 67, 0.15);\n",
              "    fill: var(--button-hover-fill-color);\n",
              "  }\n",
              "\n",
              "  .colab-df-quickchart-complete:disabled,\n",
              "  .colab-df-quickchart-complete:disabled:hover {\n",
              "    background-color: var(--disabled-bg-color);\n",
              "    fill: var(--disabled-fill-color);\n",
              "    box-shadow: none;\n",
              "  }\n",
              "\n",
              "  .colab-df-spinner {\n",
              "    border: 2px solid var(--fill-color);\n",
              "    border-color: transparent;\n",
              "    border-bottom-color: var(--fill-color);\n",
              "    animation:\n",
              "      spin 1s steps(1) infinite;\n",
              "  }\n",
              "\n",
              "  @keyframes spin {\n",
              "    0% {\n",
              "      border-color: transparent;\n",
              "      border-bottom-color: var(--fill-color);\n",
              "      border-left-color: var(--fill-color);\n",
              "    }\n",
              "    20% {\n",
              "      border-color: transparent;\n",
              "      border-left-color: var(--fill-color);\n",
              "      border-top-color: var(--fill-color);\n",
              "    }\n",
              "    30% {\n",
              "      border-color: transparent;\n",
              "      border-left-color: var(--fill-color);\n",
              "      border-top-color: var(--fill-color);\n",
              "      border-right-color: var(--fill-color);\n",
              "    }\n",
              "    40% {\n",
              "      border-color: transparent;\n",
              "      border-right-color: var(--fill-color);\n",
              "      border-top-color: var(--fill-color);\n",
              "    }\n",
              "    60% {\n",
              "      border-color: transparent;\n",
              "      border-right-color: var(--fill-color);\n",
              "    }\n",
              "    80% {\n",
              "      border-color: transparent;\n",
              "      border-right-color: var(--fill-color);\n",
              "      border-bottom-color: var(--fill-color);\n",
              "    }\n",
              "    90% {\n",
              "      border-color: transparent;\n",
              "      border-bottom-color: var(--fill-color);\n",
              "    }\n",
              "  }\n",
              "</style>\n",
              "\n",
              "      <script>\n",
              "        async function quickchart(key) {\n",
              "          const quickchartButtonEl =\n",
              "            document.querySelector('#' + key + ' button');\n",
              "          quickchartButtonEl.disabled = true;  // To prevent multiple clicks.\n",
              "          quickchartButtonEl.classList.add('colab-df-spinner');\n",
              "          try {\n",
              "            const charts = await google.colab.kernel.invokeFunction(\n",
              "                'suggestCharts', [key], {});\n",
              "          } catch (error) {\n",
              "            console.error('Error during call to suggestCharts:', error);\n",
              "          }\n",
              "          quickchartButtonEl.classList.remove('colab-df-spinner');\n",
              "          quickchartButtonEl.classList.add('colab-df-quickchart-complete');\n",
              "        }\n",
              "        (() => {\n",
              "          let quickchartButtonEl =\n",
              "            document.querySelector('#df-46727229-bc32-4830-8a6f-5406083822a8 button');\n",
              "          quickchartButtonEl.style.display =\n",
              "            google.colab.kernel.accessAllowed ? 'block' : 'none';\n",
              "        })();\n",
              "      </script>\n",
              "    </div>\n",
              "\n",
              "    </div>\n",
              "  </div>\n"
            ],
            "application/vnd.google.colaboratory.intrinsic+json": {
              "type": "dataframe",
              "summary": "{\n  \"name\": \"df\",\n  \"rows\": 8,\n  \"fields\": [\n    {\n      \"column\": \"Periode\",\n      \"properties\": {\n        \"dtype\": \"string\",\n        \"num_unique_values\": 7,\n        \"samples\": [\n          \"35\",\n          \"2014\",\n          \"2018\"\n        ],\n        \"semantic_type\": \"\",\n        \"description\": \"\"\n      }\n    },\n    {\n      \"column\": \"Tidak/belum pernah sekolah\",\n      \"properties\": {\n        \"dtype\": \"string\",\n        \"num_unique_values\": 8,\n        \"samples\": [\n          \"83398\",\n          \"79764\",\n          \"35\"\n        ],\n        \"semantic_type\": \"\",\n        \"description\": \"\"\n      }\n    },\n    {\n      \"column\": \"Tidak/belum tamat SD\",\n      \"properties\": {\n        \"dtype\": \"string\",\n        \"num_unique_values\": 8,\n        \"samples\": [\n          \"496155\",\n          \"489152\",\n          \"35\"\n        ],\n        \"semantic_type\": \"\",\n        \"description\": \"\"\n      }\n    },\n    {\n      \"column\": \"SD\",\n      \"properties\": {\n        \"dtype\": \"string\",\n        \"num_unique_values\": 8,\n        \"samples\": [\n          \"1462738\",\n          \"1320392\",\n          \"35\"\n        ],\n        \"semantic_type\": \"\",\n        \"description\": \"\"\n      }\n    },\n    {\n      \"column\": \"SLTP\",\n      \"properties\": {\n        \"dtype\": \"string\",\n        \"num_unique_values\": 8,\n        \"samples\": [\n          \"1697168\",\n          \"1650387\",\n          \"35\"\n        ],\n        \"semantic_type\": \"\",\n        \"description\": \"\"\n      }\n    },\n    {\n      \"column\": \"SLTA Umum/SMU\",\n      \"properties\": {\n        \"dtype\": \"string\",\n        \"num_unique_values\": 8,\n        \"samples\": [\n          \"2153685\",\n          \"2133627\",\n          \"35\"\n        ],\n        \"semantic_type\": \"\",\n        \"description\": \"\"\n      }\n    },\n    {\n      \"column\": \"SLTA Kejuruan/SMK\",\n      \"properties\": {\n        \"dtype\": \"string\",\n        \"num_unique_values\": 8,\n        \"samples\": [\n          \"1422718\",\n          \"1383022\",\n          \"35\"\n        ],\n        \"semantic_type\": \"\",\n        \"description\": \"\"\n      }\n    },\n    {\n      \"column\": \"Akademi/Diploma\",\n      \"properties\": {\n        \"dtype\": \"string\",\n        \"num_unique_values\": 8,\n        \"samples\": [\n          \"290183\",\n          \"254457\",\n          \"35\"\n        ],\n        \"semantic_type\": \"\",\n        \"description\": \"\"\n      }\n    },\n    {\n      \"column\": \"Universitas\",\n      \"properties\": {\n        \"dtype\": \"string\",\n        \"num_unique_values\": 8,\n        \"samples\": [\n          \"642869\",\n          \"626621\",\n          \"35\"\n        ],\n        \"semantic_type\": \"\",\n        \"description\": \"\"\n      }\n    },\n    {\n      \"column\": \"Total\",\n      \"properties\": {\n        \"dtype\": \"string\",\n        \"num_unique_values\": 8,\n        \"samples\": [\n          \"8247912\",\n          \"8319779\",\n          \"35\"\n        ],\n        \"semantic_type\": \"\",\n        \"description\": \"\"\n      }\n    }\n  ]\n}"
            }
          },
          "metadata": {},
          "execution_count": 209
        }
      ]
    },
    {
      "cell_type": "markdown",
      "source": [
        "#### Visualisasi distribusi"
      ],
      "metadata": {
        "id": "Ak9h6UrQ_T3M"
      }
    },
    {
      "cell_type": "code",
      "source": [
        "numerical_cols = df.select_dtypes(include=['int64', 'float64']).columns\n",
        "df[numerical_cols].hist(bins=15, figsize=(15, 10), color='skyblue', edgecolor='black')\n",
        "plt.suptitle(\"Distribusi Kolom Numerik\", fontsize=16)\n",
        "plt.show()"
      ],
      "metadata": {
        "colab": {
          "base_uri": "https://localhost:8080/",
          "height": 948
        },
        "id": "j-pWPIHc-vMv",
        "outputId": "efb22592-0c7b-41da-bbec-540f82884de8"
      },
      "execution_count": 228,
      "outputs": [
        {
          "output_type": "display_data",
          "data": {
            "text/plain": [
              "<Figure size 1500x1000 with 12 Axes>"
            ],
            "image/png": "[encoded data removed]"
          },
          "metadata": {}
        }
      ]
    },
    {
      "cell_type": "markdown",
      "source": [
        "#### Connect to IBM Granite Model via Replicate"
      ],
      "metadata": {
        "id": "xpNSCPq38YAB"
      }
    },
    {
      "cell_type": "code",
      "source": [
        "api_token = userdata.get('token')\n",
        "os.environ[\"REPLICATE_API_TOKEN\"] = api_token\n",
        "model = \"ibm-granite/granite-3.2-8b-instruct\"\n",
        "\n",
        "output = Replicate(\n",
        "    model=model,\n",
        "    replicate_api_token=api_token,\n",
        ")"
      ],
      "metadata": {
        "id": "oLEll0Wn8VSq"
      },
      "execution_count": 210,
      "outputs": []
    },
    {
      "cell_type": "markdown",
      "source": [
        "#### Parameters"
      ],
      "metadata": {
        "id": "38l1tIpC29ad"
      }
    },
    {
      "cell_type": "code",
      "source": [
        "parameters = {\n",
        "\"top_k\": 50,\n",
        "\"top_p\": 0.9,\n",
        "\"max_tokens\": 254,\n",
        "\"min_tokens\": 254,\n",
        "\"random_seed\": None,\n",
        "\"repetition_penalty\": None,\n",
        "\"stopping_criteria\": None,\n",
        "\"stopping_sequence\": None\n",
        "}"
      ],
      "metadata": {
        "id": "1Kh1Vx5Qc4AI"
      },
      "execution_count": 211,
      "outputs": []
    },
    {
      "cell_type": "markdown",
      "source": [
        "#### prompt Analysis"
      ],
      "metadata": {
        "id": "LI5phEynCNiB"
      }
    },
    {
      "cell_type": "code",
      "source": [
        "prompt = f\"\"\"\n",
        "Analyze the unemployment trend in Indonesia based on education level over the years:\n",
        "{df}\n",
        "\"\"\"\n"
      ],
      "metadata": {
        "id": "D8MZubOcy3ZN"
      },
      "execution_count": 194,
      "outputs": []
    },
    {
      "cell_type": "markdown",
      "source": [
        "#### Invoke the model with the prompt and Print the response"
      ],
      "metadata": {
        "id": "vTyIiGcECd_V"
      }
    },
    {
      "cell_type": "code",
      "source": [
        "response = output.invoke(prompt)\n",
        "\n",
        "print(\"Granite Model Response:\\n\")\n",
        "print(response)"
      ],
      "metadata": {
        "colab": {
          "base_uri": "https://localhost:8080/"
        },
        "id": "L8wqht3nCXET",
        "outputId": "43d7831a-f44d-41ce-fd6e-a9894d04ebbf"
      },
      "execution_count": 196,
      "outputs": [
        {
          "output_type": "stream",
          "name": "stdout",
          "text": [
            "Granite Model Response:\n",
            "\n",
            "To analyze the unemployment trend in Indonesia based on education level, we'll examine the data provided and observe the patterns in unemployment rates for different education levels over the years.\n",
            "\n",
            "1. **No Education/Never Attended School:**\n",
            "   - The numbers fluctuate significantly over the years, with peaks around 2006, 2009, 2011, and 2012.\n",
            "   - The highest unemployment rate was in August 2006 (614960), and the lowest was in February 2018 (43740).\n",
            "\n",
            "2. **Didn't Finish Elementary School (SD):**\n",
            "   - Unemployment rates are generally lower compared to those without any education.\n",
            "   - Peaks are observed around 2006, 2007, 2008, 2010, 2011, 2012, and 2013.\n",
            "   - The highest unemployment rate was in August 2006 (611254), and the lowest was in February 2018 (2675459).\n",
            "\n",
            "3. **Finished Elementary School (SD):**\n",
            "   - Unemployment rates are also lower than those without any education.\n",
            "   - Peaks are observed around 2006, 2007, 2008, 2009, 2010, 2011, 2012, and 2013.\n",
            "   - The highest unemployment rate was in August 2006 (2860007), and the lowest was in February 2018 (2589699).\n",
            "\n",
            "4. **Vocational High School (SMK):**\n",
            "   - Unemployment rates are relatively stable and lower compared to those without any education.\n",
            "   - Peaks are observed around 2006, 2008, 2009, 2010, 2011, 2012, and 2013.\n",
            "   - The highest unemployment rate was in August 2006 (1204140), and the lowest was in February 2018 (1538349).\n",
            "\n",
            "\n"
          ]
        }
      ]
    },
    {
      "cell_type": "markdown",
      "source": [
        "#### Define refined prompt"
      ],
      "metadata": {
        "id": "DQPrKGwLj7IQ"
      }
    },
    {
      "cell_type": "code",
      "source": [
        "prompt = f\"\"\"\n",
        "Analyze unemployment trends in Indonesia based on education level over the years:\n",
        "provide categories based on how the trend has evolved over time (increasing, decreasing, or fluctuating).\n",
        "{df}\n",
        "\"\"\""
      ],
      "metadata": {
        "id": "md3iskalguM6"
      },
      "execution_count": 223,
      "outputs": []
    },
    {
      "cell_type": "markdown",
      "source": [
        "#### Invoke the model with the prompt and Print the response"
      ],
      "metadata": {
        "id": "Fzj5TQnxjpJE"
      }
    },
    {
      "cell_type": "code",
      "source": [
        "refined_response = output.invoke(prompt)\n",
        "\n",
        "print(\"Granite Model Response:\\n\")\n",
        "print(refined_response)"
      ],
      "metadata": {
        "colab": {
          "base_uri": "https://localhost:8080/"
        },
        "id": "GMwBsfpMh48Q",
        "outputId": "19b49677-8ce5-4676-8dbe-2d8fe197bddd"
      },
      "execution_count": 215,
      "outputs": [
        {
          "output_type": "stream",
          "name": "stdout",
          "text": [
            "Granite Model Response:\n",
            "\n",
            "To analyze the unemployment trends in Indonesia based on education level, we will observe the data for each category over time and categorize them as increasing, decreasing, or fluctuating.\n",
            "\n",
            "1. **No/Never Attended School**:\n",
            "   - The numbers fluctuate over the years, with no clear upward or downward trend.\n",
            "   - Category: Fluctuating\n",
            "\n",
            "2. **Did Not Complete Elementary School (SD)**:\n",
            "   - Unemployment rates decrease significantly from 2006 to 2010, then fluctuate between 2010 and 2015, and decrease again after 2015.\n",
            "   - Category: Decreasing (2006-2010), Fluctuating (2010-2015), Decreasing (2015-2022)\n",
            "\n",
            "3. **Completed Elementary School (SD) but Did Not Complete Junior High School (SLTP)**:\n",
            "   - Unemployment rates generally decrease from 2006 to 2010, fluctuate between 2010 and 2015, then decrease again after 2015.\n",
            "   - Category: Decreasing (2006-2010), Fluctuating (2010-2015), Decreasing (2015-2022)\n",
            "\n",
            "4. **Completed Junior High School (SLTP) but Did Not Complete Senior High School (SLTA)**:\n",
            "   - Unemployment rates decrease significantly from 2006 to 2010, fluctuate between 2010 and 2015, and decrease again after 2015.\n",
            "   - Category: Decreasing (2006-2010), Fluctuating (2010-2015), Decreasing (2015-2022)\n",
            "\n",
            "5. **Completed Senior High School (SLTA) in General/Vocational Track (Umum/SMU)**:\n",
            "   - Unemployment rates decrease significantly from 2006 to 2010, fluctuate between 2010 and 2015, then decrease again after 2015.\n"
          ]
        }
      ]
    },
    {
      "cell_type": "markdown",
      "source": [
        "#### Define the prompt to complete the task in 2 steps"
      ],
      "metadata": {
        "id": "g9nNkJ3ejz2L"
      }
    },
    {
      "cell_type": "code",
      "source": [
        "prompt = f\"\"\"\n",
        "Complete the task in two steps.\n",
        "Step 1: Analyze the data based on timescales\n",
        "Step 2: Identify relevant categories: increasing, decreasing, or fluctuating.\n",
        "{df}\n",
        "\"\"\""
      ],
      "metadata": {
        "id": "51R542nniorl"
      },
      "execution_count": 216,
      "outputs": []
    },
    {
      "cell_type": "markdown",
      "source": [
        "#### Invoke the model with the prompt and Print the response"
      ],
      "metadata": {
        "id": "-vRnNBBhjqw5"
      }
    },
    {
      "cell_type": "code",
      "source": [
        "multitask_prompt = output.invoke(prompt)\n",
        "\n",
        "print(\"Granite Model Response:\\n\")\n",
        "print(multitask_prompt)"
      ],
      "metadata": {
        "colab": {
          "base_uri": "https://localhost:8080/"
        },
        "id": "hGTYm8Moiu8B",
        "outputId": "88cc7560-808b-4bf5-df35-f8b25ec28a10"
      },
      "execution_count": 220,
      "outputs": [
        {
          "output_type": "stream",
          "name": "stdout",
          "text": [
            "Granite Model Response:\n",
            "\n",
            "Step 1: Analyze the data based on timescales\n",
            "\n",
            "The dataset provided contains educational data for various levels (Tidak/belum pernah sekolah, Tidak/belum tamat SD, SD, SLTP, SLTA Umum/SMU, SLTA Kejuruan/SMK, Akademi/Diploma, Universitas, and Total) across different months (Februari, Agustus) and years (2006 to 2022). \n",
            "\n",
            "The dataset shows the number of individuals at each educational level for each period. For instance, in February 2006, there were 234,465 individuals who had never attended school, 6,149,600 who hadn't completed elementary school (SD), 2,675,459 who completed elementary school (SD), and so on. \n",
            "\n",
            "Step 2: Identify relevant categories: increasing, decreasing, or fluctuating.\n",
            "\n",
            "To categorize the trends as increasing, decreasing, or fluctuating, we need to observe the data over time. Here's a simplified analysis:\n",
            "\n",
            "1. **Tidak/belum pernah sekolah (Never attended school)**: \n",
            "   - The number seems to fluctuate with no clear increasing or decreasing trend over the years.\n",
            "\n",
            "2. **Tidak/belum tamat SD (Haven't completed elementary school)**:\n",
            "   - This category also shows fluctuations with no clear trend.\n",
            "\n",
            "3. **SD (Completed elementary school)**:\n",
            "   - The numbers decrease from 2006 to around 2013 and then fluctuate, showing no clear increasing or decreasing trend.\n",
            "\n",
            "4. **SLTP (Completed junior high school)**:\n",
            "   - The numbers fluctuate, showing no clear trend.\n",
            "\n",
            "5. **SLTA Umum/SMU (Completed senior high school or vocational high school)**:\n",
            "   - The numbers show a general decreasing trend from 2006 to around 2015, then fluctuate.\n",
            "\n",
            "6. **SLTA Kejuruan/SMK (Completed vocational school)**:\n",
            "   - The numbers decrease from 2006 to around 2014, then fluctuate.\n",
            "\n"
          ]
        }
      ]
    }
  ]
}